{
 "cells": [
  {
   "cell_type": "code",
   "execution_count": 1,
   "metadata": {},
   "outputs": [
    {
     "name": "stdout",
     "output_type": "stream",
     "text": [
      "[INFO] loading the training and validation dataset...\n",
      "[INFO] training dataset contains 19998 samples...\n",
      "[INFO] validation dataset contains 5000 samples...\n"
     ]
    },
    {
     "data": {
      "text/plain": [
       "<torch._C.Generator at 0x7154ebb1c210>"
      ]
     },
     "execution_count": 1,
     "metadata": {},
     "output_type": "execute_result"
    }
   ],
   "source": [
    "import torch\n",
    "import torch.nn as nn\n",
    "import os\n",
    "import torchvision.models as models\n",
    "from DataLoader import prepare_data_loaders\n",
    "import copy\n",
    "torch.manual_seed(42)"
   ]
  },
  {
   "cell_type": "code",
   "execution_count": 2,
   "metadata": {},
   "outputs": [],
   "source": [
    "def print_model_size(mdl):\n",
    "    torch.save(mdl.state_dict(), \"tmp.pt\")\n",
    "    print(\"%.2f MB\" %(os.path.getsize(\"tmp.pt\")/1e6))\n",
    "    os.remove('tmp.pt')"
   ]
  },
  {
   "cell_type": "code",
   "execution_count": 3,
   "metadata": {},
   "outputs": [],
   "source": [
    "data_loader, data_loader_test = prepare_data_loaders()"
   ]
  },
  {
   "cell_type": "code",
   "execution_count": 4,
   "metadata": {},
   "outputs": [],
   "source": [
    "def train_epoch(model, criterion, optimizer, data_loader, device,epoch):\n",
    "    model.train()\n",
    "    \n",
    "    epoch_loss = 0.0\n",
    "    num_batches = len(data_loader)\n",
    "    \n",
    "    for batch_idx, (image, target) in enumerate(data_loader):\n",
    "        image, target = image.to(device), target.to(device)\n",
    "        \n",
    "        # Forward pass\n",
    "        output = model(image)\n",
    "        \n",
    "        # Calculate loss\n",
    "        loss = criterion(output, target)\n",
    "        \n",
    "        # Backward pass and optimization\n",
    "        optimizer.zero_grad()\n",
    "        loss.backward()\n",
    "        optimizer.step()\n",
    "        \n",
    "        # Accumulate batch loss\n",
    "        epoch_loss += loss.item()\n",
    "        \n",
    "        # Print batch loss (optional)\n",
    "        # print(f\"Batch [{batch_idx + 1}/{num_batches}], Loss: {loss.item():.4f}\")\n",
    "    \n",
    "    # Calculate average epoch loss\n",
    "    avg_epoch_loss = epoch_loss / num_batches\n",
    "    print(f\"Epoch = {epoch+1} || Training Loss: {avg_epoch_loss:.4f}\")\n",
    "    "
   ]
  },
  {
   "cell_type": "code",
   "execution_count": 5,
   "metadata": {},
   "outputs": [],
   "source": [
    "def evaluate(model, criterion, data_loader, device,epoch):\n",
    "    \n",
    "    model.eval()\n",
    "    \n",
    "    epoch_loss = 0.0\n",
    "    \n",
    "    correct_predictions = 0\n",
    "    total_predictions = 0\n",
    "    \n",
    "    num_batches = len(data_loader)\n",
    "    \n",
    "    with torch.no_grad():\n",
    "       \n",
    "        for image, target in data_loader:\n",
    "            image, target = image.to(device), target.to(device)\n",
    "            output = model(image)\n",
    "            loss = criterion(output, target)\n",
    "            # Accumulate batch loss\n",
    "            epoch_loss += loss.item()\n",
    "            \n",
    "            # Calculate accuracy\n",
    "            _, predicted = torch.max(output, 1)  # Get the predicted class index\n",
    "            correct_predictions += (predicted == target).sum().item()\n",
    "            total_predictions += target.size(0)\n",
    "            \n",
    "    # Calculate average epoch loss\n",
    "    avg_epoch_loss = epoch_loss / num_batches\n",
    "    accuracy = correct_predictions / total_predictions\n",
    "    \n",
    "    print(f\"Epoch = {epoch+1} || Test Loss: {avg_epoch_loss:.4f} || Test Accuracy: {accuracy:.4f}\")\n",
    "        "
   ]
  },
  {
   "cell_type": "code",
   "execution_count": 6,
   "metadata": {},
   "outputs": [],
   "source": [
    "class MobileNet(torch.nn.Module):\n",
    "    def __init__(self):\n",
    "        super(MobileNet, self).__init__()\n",
    "        self.model = models.mobilenet_v2(weights='MobileNet_V2_Weights.DEFAULT')  \n",
    "        \n",
    "        # for param in self.model.parameters():\n",
    "        #     param.requires_grad = False\n",
    "        \n",
    "        self.model.classifier[1] = nn.Sequential(\n",
    "            nn.Linear(in_features=self.model.classifier[1].in_features,out_features=512),\n",
    "            nn.LeakyReLU(negative_slope=0.02,inplace=False),\n",
    "            nn.BatchNorm1d(num_features=512),\n",
    "            nn.Dropout(p=0.4,inplace=False),\n",
    "            nn.Linear(in_features=512,out_features=2),\n",
    "            nn.Softmax(dim=1))\n",
    "        \n",
    "        # print(self.model)\n",
    "\n",
    "    def forward(self, x):\n",
    "        x = self.model(x)\n",
    "        return x"
   ]
  },
  {
   "cell_type": "code",
   "execution_count": 7,
   "metadata": {},
   "outputs": [],
   "source": [
    "model = MobileNet()"
   ]
  },
  {
   "cell_type": "code",
   "execution_count": 8,
   "metadata": {},
   "outputs": [
    {
     "name": "stdout",
     "output_type": "stream",
     "text": [
      "11.76 MB\n"
     ]
    }
   ],
   "source": [
    "print_model_size(model)"
   ]
  },
  {
   "cell_type": "code",
   "execution_count": 9,
   "metadata": {},
   "outputs": [
    {
     "name": "stdout",
     "output_type": "stream",
     "text": [
      "Using fbgemm backend engine for x86_64 CPU\n"
     ]
    }
   ],
   "source": [
    "import platform\n",
    "chip = platform.processor()\n",
    "\n",
    "if chip == 'arm':\n",
    "    backend = 'qnnpack'\n",
    "elif chip in ['x86_64', 'i386']:\n",
    "    backend = 'fbgemm'\n",
    "else:\n",
    "    raise SystemError(\"Backend is not supported\")\n",
    "\n",
    "print(f\"Using {backend} backend engine for {chip} CPU\")\n",
    "\n",
    "torch.backends.quantized.engine = backend"
   ]
  },
  {
   "cell_type": "code",
   "execution_count": 10,
   "metadata": {},
   "outputs": [],
   "source": [
    "criterion = nn.CrossEntropyLoss(reduction='mean')\n",
    "optimizer = torch.optim.AdamW(model.parameters(), lr = 0.0001)"
   ]
  },
  {
   "cell_type": "code",
   "execution_count": 11,
   "metadata": {},
   "outputs": [
    {
     "name": "stderr",
     "output_type": "stream",
     "text": [
      "/home/ss/miniconda3/lib/python3.12/site-packages/torch/ao/quantization/fx/prepare.py:1751: UserWarning: Passing a QConfig dictionary to prepare is deprecated and will not be supported in a future version. Please pass in a QConfigMapping instead.\n",
      "  warnings.warn(\n",
      "/home/ss/miniconda3/lib/python3.12/site-packages/torch/ao/quantization/observer.py:220: UserWarning: Please use quant_min and quant_max to specify the range for observers.                     reduce_range will be deprecated in a future release of PyTorch.\n",
      "  warnings.warn(\n",
      "/home/ss/miniconda3/lib/python3.12/site-packages/torch/ao/quantization/fx/utils.py:857: UserWarning: QConfig must specify a FixedQParamsObserver or a FixedQParamsFakeQuantize for fixed qparams ops, ignoring QConfig(activation=functools.partial(<class 'torch.ao.quantization.fake_quantize.FusedMovingAvgObsFakeQuantize'>, observer=<class 'torch.ao.quantization.observer.MovingAverageMinMaxObserver'>, quant_min=0, quant_max=255, reduce_range=True){'factory_kwargs': <function _add_module_to_qconfig_obs_ctr.<locals>.get_factory_kwargs_based_on_module_device at 0x71545c2a9f80>}, weight=functools.partial(<class 'torch.ao.quantization.fake_quantize.FusedMovingAvgObsFakeQuantize'>, observer=<class 'torch.ao.quantization.observer.MovingAveragePerChannelMinMaxObserver'>, quant_min=-128, quant_max=127, dtype=torch.qint8, qscheme=torch.per_channel_symmetric){'factory_kwargs': <function _add_module_to_qconfig_obs_ctr.<locals>.get_factory_kwargs_based_on_module_device at 0x71545c2a9f80>}).\n",
      "Please use torch.ao.quantization.get_default_qconfig_mapping or torch.ao.quantization.get_default_qat_qconfig_mapping. Example:\n",
      "    qconfig_mapping = get_default_qconfig_mapping(\"fbgemm\")\n",
      "    model = prepare_fx(model, qconfig_mapping, example_inputs)\n",
      "  warnings.warn(\n"
     ]
    }
   ],
   "source": [
    "\n",
    "from torch.quantization.quantize_fx import prepare_fx, convert_fx,prepare_qat_fx\n",
    "\n",
    "example_inputs = (torch.randn(1, 3, 28, 28),)\n",
    "qconfig = {\n",
    "    \"\": torch.quantization.get_default_qat_qconfig(backend),\n",
    "    \"module_name\": [\n",
    "    #    (\"features.13\", None),    \n",
    "    #    (\"features.14\", None),\n",
    "    #    (\"features.15\", None),\n",
    "    #    (\"features.16\", None),\n",
    "    #    (\"features.17\", None),\n",
    "    ]\n",
    "}\n",
    "#model_prepared = prepare_fx(model.eval(), qconfig,example_inputs)\n",
    "model_prepared = prepare_qat_fx(model.train(), qconfig, example_inputs)"
   ]
  },
  {
   "cell_type": "code",
   "execution_count": 12,
   "metadata": {},
   "outputs": [
    {
     "name": "stderr",
     "output_type": "stream",
     "text": [
      "/home/ss/miniconda3/lib/python3.12/site-packages/PIL/TiffImagePlugin.py:890: UserWarning: Truncated File Read\n",
      "  warnings.warn(str(msg))\n"
     ]
    },
    {
     "name": "stdout",
     "output_type": "stream",
     "text": [
      "Epoch = 1 || Training Loss: 0.6394\n",
      "Epoch = 1 || Test Loss: 0.6031 || Test Accuracy: 0.6842\n",
      "Epoch = 2 || Training Loss: 0.5876\n",
      "Epoch = 2 || Test Loss: 0.5736 || Test Accuracy: 0.7200\n",
      "Epoch = 3 || Training Loss: 0.5653\n",
      "Epoch = 3 || Test Loss: 0.5580 || Test Accuracy: 0.7352\n",
      "Epoch = 4 || Training Loss: 0.5530\n",
      "Epoch = 4 || Test Loss: 0.5475 || Test Accuracy: 0.7518\n",
      "Epoch = 5 || Training Loss: 0.5415\n",
      "Epoch = 5 || Test Loss: 0.5451 || Test Accuracy: 0.7524\n",
      "Epoch = 6 || Training Loss: 0.5347\n",
      "Epoch = 6 || Test Loss: 0.5446 || Test Accuracy: 0.7512\n",
      "Epoch = 7 || Training Loss: 0.5251\n",
      "Epoch = 7 || Test Loss: 0.5282 || Test Accuracy: 0.7730\n",
      "Epoch = 8 || Training Loss: 0.5178\n",
      "Epoch = 8 || Test Loss: 0.5252 || Test Accuracy: 0.7756\n",
      "Epoch = 9 || Training Loss: 0.5149\n",
      "Epoch = 9 || Test Loss: 0.5240 || Test Accuracy: 0.7756\n",
      "Epoch = 10 || Training Loss: 0.5096\n",
      "Epoch = 10 || Test Loss: 0.5217 || Test Accuracy: 0.7814\n",
      "Epoch = 11 || Training Loss: 0.5011\n",
      "Epoch = 11 || Test Loss: 0.5188 || Test Accuracy: 0.7826\n",
      "Epoch = 12 || Training Loss: 0.4951\n",
      "Epoch = 12 || Test Loss: 0.5098 || Test Accuracy: 0.7938\n",
      "Epoch = 13 || Training Loss: 0.4906\n",
      "Epoch = 13 || Test Loss: 0.5120 || Test Accuracy: 0.7878\n",
      "Epoch = 14 || Training Loss: 0.4814\n",
      "Epoch = 14 || Test Loss: 0.5108 || Test Accuracy: 0.7876\n",
      "Epoch = 15 || Training Loss: 0.4815\n",
      "Epoch = 15 || Test Loss: 0.5055 || Test Accuracy: 0.7974\n",
      "Epoch = 16 || Training Loss: 0.4744\n",
      "Epoch = 16 || Test Loss: 0.5121 || Test Accuracy: 0.7912\n",
      "Epoch = 17 || Training Loss: 0.4727\n",
      "Epoch = 17 || Test Loss: 0.5135 || Test Accuracy: 0.7862\n",
      "Epoch = 18 || Training Loss: 0.4636\n",
      "Epoch = 18 || Test Loss: 0.5007 || Test Accuracy: 0.8010\n",
      "Epoch = 19 || Training Loss: 0.4647\n",
      "Epoch = 19 || Test Loss: 0.5033 || Test Accuracy: 0.8006\n",
      "Epoch = 20 || Training Loss: 0.4605\n",
      "Epoch = 20 || Test Loss: 0.5069 || Test Accuracy: 0.7930\n"
     ]
    }
   ],
   "source": [
    "for nepoch in range(20):\n",
    "    train_epoch(model_prepared, criterion, optimizer, data_loader, torch.device('cpu'),nepoch)\n",
    "    model_quantized = copy.deepcopy(model_prepared)\n",
    "    model_quantized = convert_fx(model_quantized.eval())\n",
    "    evaluate(model_quantized,criterion, data_loader_test,torch.device('cpu'),nepoch)\n",
    "    "
   ]
  },
  {
   "cell_type": "code",
   "execution_count": 13,
   "metadata": {},
   "outputs": [
    {
     "name": "stdout",
     "output_type": "stream",
     "text": [
      "Epoch = 1 || Test Loss: 0.5069 || Test Accuracy: 0.7930\n"
     ]
    }
   ],
   "source": [
    "model_quantized = copy.deepcopy(model_prepared)\n",
    "model_quantized = convert_fx(model_quantized.eval())\n",
    "evaluate(model_quantized,criterion, data_loader_test,torch.device('cpu'),0)\n"
   ]
  },
  {
   "cell_type": "code",
   "execution_count": 14,
   "metadata": {},
   "outputs": [
    {
     "name": "stdout",
     "output_type": "stream",
     "text": [
      "3.30 MB\n"
     ]
    }
   ],
   "source": [
    "print_model_size(model_quantized)"
   ]
  },
  {
   "cell_type": "code",
   "execution_count": 15,
   "metadata": {},
   "outputs": [],
   "source": [
    "traced_net = torch.jit.trace(model_quantized, torch.randn(1,3,28,28))\n",
    "\n",
    "torch.jit.save(traced_net,'QATDogCatMobileNetV2.pt')"
   ]
  }
 ],
 "metadata": {
  "kernelspec": {
   "display_name": "base",
   "language": "python",
   "name": "python3"
  },
  "language_info": {
   "codemirror_mode": {
    "name": "ipython",
    "version": 3
   },
   "file_extension": ".py",
   "mimetype": "text/x-python",
   "name": "python",
   "nbconvert_exporter": "python",
   "pygments_lexer": "ipython3",
   "version": "3.12.2"
  }
 },
 "nbformat": 4,
 "nbformat_minor": 2
}

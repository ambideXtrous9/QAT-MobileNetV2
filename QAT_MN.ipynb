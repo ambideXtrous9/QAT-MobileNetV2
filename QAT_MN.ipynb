{
 "cells": [
  {
   "cell_type": "code",
   "execution_count": null,
   "metadata": {},
   "outputs": [],
   "source": [
    "import torch\n",
    "import torchvision.models as models\n",
    "import os\n",
    "from torch import nn"
   ]
  },
  {
   "cell_type": "code",
   "execution_count": null,
   "metadata": {},
   "outputs": [],
   "source": [
    "def print_model_size(mdl):\n",
    "    torch.save(mdl.state_dict(), \"tmp.pt\")\n",
    "    print(\"%.2f MB\" %(os.path.getsize(\"tmp.pt\")/1e6))\n",
    "    os.remove('tmp.pt')"
   ]
  },
  {
   "cell_type": "code",
   "execution_count": null,
   "metadata": {},
   "outputs": [],
   "source": [
    "class MobileNet(torch.nn.Module):\n",
    "    def __init__(self):\n",
    "        super(MobileNet, self).__init__()\n",
    "        self.model = models.MobileNetV2()\n",
    "        \n",
    "        \n",
    "        for param in self.model.parameters():\n",
    "            param.requires_grad = False\n",
    "            \n",
    "        \n",
    "        self.model.classifier[1] = nn.Sequential(\n",
    "            nn.Linear(in_features=self.model.classifier[1].in_features,out_features=512),\n",
    "            nn.LeakyReLU(negative_slope=0.02,inplace=True),\n",
    "            nn.BatchNorm1d(num_features=512),\n",
    "            nn.Dropout(p=0.4,inplace=True),\n",
    "            nn.Linear(in_features=512,out_features=2),\n",
    "            nn.Softmax(dim=1))\n",
    "        \n",
    "        # print(self.model)\n",
    "\n",
    "    def forward(self, x):\n",
    "        x = self.model(x)\n",
    "        return x"
   ]
  },
  {
   "cell_type": "code",
   "execution_count": null,
   "metadata": {},
   "outputs": [],
   "source": [
    "model = MobileNet()"
   ]
  },
  {
   "cell_type": "code",
   "execution_count": null,
   "metadata": {},
   "outputs": [],
   "source": [
    "print_model_size(model)"
   ]
  },
  {
   "cell_type": "code",
   "execution_count": null,
   "metadata": {},
   "outputs": [],
   "source": [
    "import platform\n",
    "chip = platform.processor()\n",
    "\n",
    "if chip == 'arm':\n",
    "    backend = 'qnnpack'\n",
    "elif chip in ['x86_64', 'i386']:\n",
    "    backend = 'fbgemm'\n",
    "else:\n",
    "    raise SystemError(\"Backend is not supported\")\n",
    "\n",
    "print(f\"Using {backend} backend engine for {chip} CPU\")\n",
    "\n",
    "torch.backends.quantized.engine = backend"
   ]
  },
  {
   "cell_type": "code",
   "execution_count": null,
   "metadata": {},
   "outputs": [],
   "source": [
    "from torch.quantization.quantize_fx import prepare_fx, convert_fx\n",
    "\n",
    "example_inputs = (torch.randn(1, 3, 28, 28),)\n",
    "qconfig = {\n",
    "    \"\": torch.quantization.get_default_qconfig(backend),\n",
    "    \"module_name\": [\n",
    "        (\"features.13\", None),    \n",
    "        (\"features.14\", None),\n",
    "        (\"features.15\", None),\n",
    "        (\"features.16\", None),\n",
    "        (\"features.17\", None),\n",
    "    ]\n",
    "}\n",
    "model_prepared = prepare_fx(model.eval(), qconfig,example_inputs)\n"
   ]
  },
  {
   "cell_type": "code",
   "execution_count": null,
   "metadata": {},
   "outputs": [],
   "source": [
    "from DataLoader import prepare_data_loaders"
   ]
  },
  {
   "cell_type": "code",
   "execution_count": null,
   "metadata": {},
   "outputs": [],
   "source": [
    "data_loader, data_loader_test = prepare_data_loaders()"
   ]
  },
  {
   "cell_type": "code",
   "execution_count": null,
   "metadata": {},
   "outputs": [],
   "source": [
    "def train_epoch(model, criterion, optimizer, data_loader, device):\n",
    "    model.train()\n",
    "    \n",
    "    epoch_loss = 0.0\n",
    "    num_batches = len(data_loader)\n",
    "    \n",
    "    for batch_idx, (image, target) in enumerate(data_loader):\n",
    "        image, target = image.to(device), target.to(device)\n",
    "        \n",
    "        output = model(image)\n",
    "        \n",
    "        loss = criterion(output, target)\n",
    "        \n",
    "        optimizer.zero_grad()\n",
    "        loss.backward()\n",
    "        optimizer.step()\n",
    "        \n",
    "        epoch_loss += loss.item()\n",
    "    \n",
    "    avg_epoch_loss = epoch_loss / num_batches\n",
    "    print(f\"Epoch Training Loss: {avg_epoch_loss:.4f}\")\n",
    "    "
   ]
  },
  {
   "cell_type": "code",
   "execution_count": null,
   "metadata": {},
   "outputs": [],
   "source": [
    "def evaluate(model, criterion, data_loader, device):\n",
    "    \n",
    "    epoch_loss = 0.0\n",
    "    \n",
    "    correct_predictions = 0\n",
    "    total_predictions = 0\n",
    "    \n",
    "    num_batches = len(data_loader)\n",
    "    \n",
    "    with torch.no_grad():\n",
    "       \n",
    "        for image, target in data_loader:\n",
    "            image, target = image.to(device), target.to(device)\n",
    "            output = model(image)\n",
    "            loss = criterion(output, target)\n",
    "\n",
    "            epoch_loss += loss.item()\n",
    "            \n",
    "            _, predicted = torch.max(output, 1)  # Get the predicted class index\n",
    "            correct_predictions += (predicted == target).sum().item()\n",
    "            total_predictions += target.size(0)\n",
    "            \n",
    "    avg_epoch_loss = epoch_loss / num_batches\n",
    "    print(f\"Epoch Test Loss: {avg_epoch_loss:.4f}\")\n",
    "    \n",
    "    accuracy = correct_predictions / total_predictions\n",
    "    print(f\"Epoch Accuracy: {accuracy:.4f}\")\n",
    "    "
   ]
  },
  {
   "cell_type": "code",
   "execution_count": null,
   "metadata": {},
   "outputs": [],
   "source": [
    "criterion = nn.CrossEntropyLoss(reduction='mean')\n",
    "optimizer = torch.optim.AdamW(model_prepared.parameters(), lr = 0.001)"
   ]
  },
  {
   "cell_type": "code",
   "execution_count": null,
   "metadata": {},
   "outputs": [],
   "source": [
    "import copy"
   ]
  },
  {
   "cell_type": "code",
   "execution_count": null,
   "metadata": {},
   "outputs": [],
   "source": [
    "\n",
    "for nepoch in range(10):\n",
    "    train_epoch(model_prepared, criterion, optimizer, data_loader, torch.device('cpu'))\n",
    "    \n",
    "\n",
    "    # Check the accuracy after each epoch\n",
    "    model_quantized = copy.deepcopy(model_prepared)\n",
    "    dynamic_resnet = convert_fx(model_quantized)\n",
    "    dynamic_resnet.eval()\n",
    "    evaluate(dynamic_resnet,criterion, data_loader_test,torch.device('cpu'))\n"
   ]
  },
  {
   "cell_type": "code",
   "execution_count": null,
   "metadata": {},
   "outputs": [],
   "source": []
  }
 ],
 "metadata": {
  "kernelspec": {
   "display_name": "base",
   "language": "python",
   "name": "python3"
  },
  "language_info": {
   "codemirror_mode": {
    "name": "ipython",
    "version": 3
   },
   "file_extension": ".py",
   "mimetype": "text/x-python",
   "name": "python",
   "nbconvert_exporter": "python",
   "pygments_lexer": "ipython3",
   "version": "3.12.2"
  }
 },
 "nbformat": 4,
 "nbformat_minor": 2
}
